{
 "cells": [
  {
   "cell_type": "code",
   "execution_count": 1,
   "id": "19829392",
   "metadata": {},
   "outputs": [
    {
     "name": "stdout",
     "output_type": "stream",
     "text": [
      "mix_fruits= {'Mango', 'Apple', 'Pear', 'Fig', 'Orange', 'Banana', 'Guava'} <class 'set'>\n"
     ]
    }
   ],
   "source": [
    "mix_fruits={'Guava','Pear','Mango','Apple','Fig','Orange','Banana'}\n",
    "print('mix_fruits=',mix_fruits,type(mix_fruits))"
   ]
  },
  {
   "cell_type": "code",
   "execution_count": 2,
   "id": "78eef84b",
   "metadata": {},
   "outputs": [
    {
     "name": "stdout",
     "output_type": "stream",
     "text": [
      "7\n"
     ]
    }
   ],
   "source": [
    "mix_fruits={'Guava','Pear','Mango','Apple','Fig','Orange','Banana'}\n",
    "print(len(mix_fruits))"
   ]
  },
  {
   "cell_type": "code",
   "execution_count": 3,
   "id": "f7cc30cd",
   "metadata": {},
   "outputs": [
    {
     "name": "stdout",
     "output_type": "stream",
     "text": [
      "{'Mango', 'Apple', 'Pear', 'Kiwi', 'Fig', 'Orange', 'Banana', 'Guava'}\n"
     ]
    }
   ],
   "source": [
    "mix_fruits.add('Kiwi')\n",
    "print(mix_fruits)"
   ]
  },
  {
   "cell_type": "code",
   "execution_count": 4,
   "id": "9825988f",
   "metadata": {},
   "outputs": [
    {
     "name": "stdout",
     "output_type": "stream",
     "text": [
      "{'Mango', 'Apple', 'Pear', 'Kiwi', 'Peach', 'Fig', 'Strawberry', 'Orange', 'Banana', 'Guava', 'Cherry'}\n"
     ]
    }
   ],
   "source": [
    "mix_fruits.update(['Strawberry','Cherry','Peach'])\n",
    "print(mix_fruits)"
   ]
  },
  {
   "cell_type": "code",
   "execution_count": 5,
   "id": "12e45538",
   "metadata": {},
   "outputs": [
    {
     "name": "stdout",
     "output_type": "stream",
     "text": [
      "{'Mango', 'Apple', 'Pear', 'Kiwi', 'Peach', 'Fig', 'Strawberry', 'Orange', 'Guava', 'Cherry'}\n"
     ]
    }
   ],
   "source": [
    "mix_fruits.remove('Banana')\n",
    "print(mix_fruits)"
   ]
  },
  {
   "cell_type": "code",
   "execution_count": 7,
   "id": "3c23b1c4",
   "metadata": {},
   "outputs": [
    {
     "name": "stdout",
     "output_type": "stream",
     "text": [
      "{'Mango', 'Apple', 'Pear', 'Kiwi', 'Peach', 'Strawberry', 'Orange', 'Guava', 'Cherry'}\n"
     ]
    },
    {
     "ename": "KeyError",
     "evalue": "'Fig'",
     "output_type": "error",
     "traceback": [
      "\u001b[1;31m---------------------------------------------------------------------------\u001b[0m",
      "\u001b[1;31mKeyError\u001b[0m                                  Traceback (most recent call last)",
      "\u001b[1;32m<ipython-input-7-e84208fdf7b7>\u001b[0m in \u001b[0;36m<module>\u001b[1;34m\u001b[0m\n\u001b[0;32m      1\u001b[0m \u001b[0mmix_fruits\u001b[0m\u001b[1;33m.\u001b[0m\u001b[0mdiscard\u001b[0m\u001b[1;33m(\u001b[0m\u001b[1;34m'Fig'\u001b[0m\u001b[1;33m)\u001b[0m\u001b[1;33m\u001b[0m\u001b[1;33m\u001b[0m\u001b[0m\n\u001b[0;32m      2\u001b[0m \u001b[0mprint\u001b[0m\u001b[1;33m(\u001b[0m\u001b[0mmix_fruits\u001b[0m\u001b[1;33m)\u001b[0m\u001b[1;33m\u001b[0m\u001b[1;33m\u001b[0m\u001b[0m\n\u001b[1;32m----> 3\u001b[1;33m \u001b[0mmix_fruits\u001b[0m\u001b[1;33m.\u001b[0m\u001b[0mremove\u001b[0m\u001b[1;33m(\u001b[0m\u001b[1;34m'Fig'\u001b[0m\u001b[1;33m)\u001b[0m\u001b[1;33m\u001b[0m\u001b[1;33m\u001b[0m\u001b[0m\n\u001b[0m\u001b[0;32m      4\u001b[0m \u001b[0mprint\u001b[0m\u001b[1;33m(\u001b[0m\u001b[0mmix_fruits\u001b[0m\u001b[1;33m)\u001b[0m\u001b[1;33m\u001b[0m\u001b[1;33m\u001b[0m\u001b[0m\n",
      "\u001b[1;31mKeyError\u001b[0m: 'Fig'"
     ]
    }
   ],
   "source": [
    "mix_fruits.discard('Fig')\n",
    "print(mix_fruits)\n",
    "mix_fruits.remove('Fig')\n",
    "print(mix_fruits)"
   ]
  },
  {
   "cell_type": "code",
   "execution_count": 8,
   "id": "790607cc",
   "metadata": {},
   "outputs": [
    {
     "data": {
      "text/plain": [
       "{19, 20, 22, 24, 25, 26, 27, 28}"
      ]
     },
     "execution_count": 8,
     "metadata": {},
     "output_type": "execute_result"
    }
   ],
   "source": [
    "A={19,22,24,20,25,26}\n",
    "B={19,22,20,25,26,24,28,27}\n",
    "A.union(B)"
   ]
  },
  {
   "cell_type": "code",
   "execution_count": 9,
   "id": "03cefbc8",
   "metadata": {},
   "outputs": [
    {
     "data": {
      "text/plain": [
       "{19, 20, 22, 24, 25, 26}"
      ]
     },
     "execution_count": 9,
     "metadata": {},
     "output_type": "execute_result"
    }
   ],
   "source": [
    "A.intersection(B)"
   ]
  },
  {
   "cell_type": "code",
   "execution_count": 10,
   "id": "b3f8295e",
   "metadata": {},
   "outputs": [
    {
     "data": {
      "text/plain": [
       "True"
      ]
     },
     "execution_count": 10,
     "metadata": {},
     "output_type": "execute_result"
    }
   ],
   "source": [
    "A.issubset(B)"
   ]
  },
  {
   "cell_type": "code",
   "execution_count": 11,
   "id": "3f18a678",
   "metadata": {},
   "outputs": [
    {
     "data": {
      "text/plain": [
       "False"
      ]
     },
     "execution_count": 11,
     "metadata": {},
     "output_type": "execute_result"
    }
   ],
   "source": [
    "A.isdisjoint(B)"
   ]
  },
  {
   "cell_type": "code",
   "execution_count": 12,
   "id": "d8256709",
   "metadata": {},
   "outputs": [
    {
     "data": {
      "text/plain": [
       "{19, 20, 22, 24, 25, 26, 27, 28}"
      ]
     },
     "execution_count": 12,
     "metadata": {},
     "output_type": "execute_result"
    }
   ],
   "source": [
    "A.union(B)\n",
    "B.union(A)"
   ]
  },
  {
   "cell_type": "code",
   "execution_count": 13,
   "id": "599e0a6e",
   "metadata": {},
   "outputs": [
    {
     "data": {
      "text/plain": [
       "{27, 28}"
      ]
     },
     "execution_count": 13,
     "metadata": {},
     "output_type": "execute_result"
    }
   ],
   "source": [
    "A.symmetric_difference(B)"
   ]
  },
  {
   "cell_type": "code",
   "execution_count": 14,
   "id": "8a934ecb",
   "metadata": {},
   "outputs": [
    {
     "name": "stdout",
     "output_type": "stream",
     "text": [
      "set()\n",
      "set()\n"
     ]
    }
   ],
   "source": [
    "A.clear()\n",
    "B.clear()\n",
    "print(A)\n",
    "print(B)"
   ]
  },
  {
   "cell_type": "code",
   "execution_count": 15,
   "id": "c3454ee8",
   "metadata": {},
   "outputs": [
    {
     "name": "stdout",
     "output_type": "stream",
     "text": [
      "{19, 22, 24, 25, 26} <class 'set'>\n"
     ]
    }
   ],
   "source": [
    "num=[22,19,24,25,26,24,25,24]\n",
    "numset=set(num)\n",
    "print(numset,type(numset))"
   ]
  },
  {
   "cell_type": "code",
   "execution_count": 16,
   "id": "aed34acb",
   "metadata": {},
   "outputs": [
    {
     "name": "stdout",
     "output_type": "stream",
     "text": [
      "True\n",
      "False\n",
      "False\n"
     ]
    }
   ],
   "source": [
    "print(len(num)>len(numset))\n",
    "print(len(num)<len(numset))\n",
    "print(len(num)==len(numset))"
   ]
  },
  {
   "cell_type": "code",
   "execution_count": 17,
   "id": "ba6d4ea9",
   "metadata": {},
   "outputs": [],
   "source": [
    "#The list can be changed,the string,tuple and sets cannot be changed.\n",
    "#The string donot use any brackets,list use [],tuple use (),sets use {}"
   ]
  },
  {
   "cell_type": "code",
   "execution_count": 18,
   "id": "fff63226",
   "metadata": {},
   "outputs": [
    {
     "name": "stdout",
     "output_type": "stream",
     "text": [
      "{'love', 'cum', 'teach', 'a', 'teacher', 'inspire', 'and', 'people', 'to', 'I', 'researcher', 'am'}\n",
      "12\n"
     ]
    }
   ],
   "source": [
    "sentence='I am a researcher cum teacher and I love to inspire and teach people';\n",
    "set1=set(sentence.split())\n",
    "print(set1)\n",
    "print(len(set1))"
   ]
  },
  {
   "cell_type": "code",
   "execution_count": null,
   "id": "099c2db9",
   "metadata": {},
   "outputs": [],
   "source": []
  }
 ],
 "metadata": {
  "kernelspec": {
   "display_name": "Python 3",
   "language": "python",
   "name": "python3"
  },
  "language_info": {
   "codemirror_mode": {
    "name": "ipython",
    "version": 3
   },
   "file_extension": ".py",
   "mimetype": "text/x-python",
   "name": "python",
   "nbconvert_exporter": "python",
   "pygments_lexer": "ipython3",
   "version": "3.8.8"
  }
 },
 "nbformat": 4,
 "nbformat_minor": 5
}
